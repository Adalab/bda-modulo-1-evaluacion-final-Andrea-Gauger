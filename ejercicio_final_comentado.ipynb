{
 "cells": [
  {
   "cell_type": "code",
   "execution_count": null,
   "metadata": {},
   "outputs": [],
   "source": []
  },
  {
   "cell_type": "code",
   "execution_count": 1,
   "metadata": {},
   "outputs": [
    {
     "data": {
      "text/plain": [
       "{'inventario': [], 'ventas_totales': 0.0}"
      ]
     },
     "execution_count": 1,
     "metadata": {},
     "output_type": "execute_result"
    }
   ],
   "source": [
    "\n",
    "class TiendaOnline:#creo la clase TiendaOnline\n",
    "\n",
    "    def __init__(self):#defino el constructor, queda vacío porque los dos atributos serán parámetros por defecto\n",
    "        self.inventario = []\n",
    "        self.ventas_totales = 0.00\n",
    "\n",
    "\n",
    "jugueteria = TiendaOnline()#instancio un objeto, en este caso la juguetería\n",
    "\n",
    "jugueteria.__dict__#compruebo que todo funciona con el método .__dict__, \n",
    "                   #que revela la información guardada en el constructor\n"
   ]
  },
  {
   "cell_type": "code",
   "execution_count": 1,
   "metadata": {},
   "outputs": [],
   "source": [
    "\n",
    "class TiendaOnline:\n",
    "\n",
    "    def __init__(self):\n",
    "        self.inventario = []\n",
    "        self.ventas_totales = 0.00\n",
    "\n",
    "    def agregar_producto(self, nombre, precio, cantidad): #establezco el metodo con los parámetros indicados\n",
    "        \n",
    "        for diccionario in self.inventario: #itero por todos los diccionarios del inventario\n",
    "            if diccionario[\"nombre\"] == nombre: # compruebo si alguno tiene el value nombre que le he dado en el parametro\n",
    "                diccionario[\"cantidad\"] = cantidad #si ya está actualizo solo la cantidad(en caso de que actualizar = sumar, (+=))\n",
    "                return f\"El artículo {nombre} ya se encuentra en el inventario, vamos a actualizar el stock a {cantidad} unidades.\"\n",
    "            \n",
    "        else: #fuera del bucle for, si no se ha dado el condicional anterior, añado el diccionario nuevo a la lista con .append y todos los parámetros\n",
    "                self.inventario.append({\"nombre\" : nombre, \"precio\" : precio, \"cantidad\" : cantidad})\n",
    "                return f\"Añadiendo {nombre} al diccionario\""
   ]
  },
  {
   "cell_type": "code",
   "execution_count": 2,
   "metadata": {},
   "outputs": [],
   "source": [
    "jugueteria = TiendaOnline()"
   ]
  },
  {
   "cell_type": "code",
   "execution_count": 3,
   "metadata": {},
   "outputs": [
    {
     "data": {
      "text/plain": [
       "'Añadiendo carricoche al diccionario'"
      ]
     },
     "execution_count": 3,
     "metadata": {},
     "output_type": "execute_result"
    }
   ],
   "source": [
    "jugueteria.agregar_producto(\"carricoche\", 18.00, 5)"
   ]
  },
  {
   "cell_type": "code",
   "execution_count": 4,
   "metadata": {},
   "outputs": [
    {
     "data": {
      "text/plain": [
       "{'inventario': [{'nombre': 'carricoche', 'precio': 18.0, 'cantidad': 5}],\n",
       " 'ventas_totales': 0.0}"
      ]
     },
     "execution_count": 4,
     "metadata": {},
     "output_type": "execute_result"
    }
   ],
   "source": [
    "jugueteria.__dict__"
   ]
  },
  {
   "cell_type": "code",
   "execution_count": 5,
   "metadata": {},
   "outputs": [
    {
     "data": {
      "text/plain": [
       "'El artículo carricoche ya se encuentra en el inventario, vamos a actualizar el stock a 7 unidades.'"
      ]
     },
     "execution_count": 5,
     "metadata": {},
     "output_type": "execute_result"
    }
   ],
   "source": [
    "jugueteria.agregar_producto(\"carricoche\", 18.00, 7)"
   ]
  },
  {
   "cell_type": "code",
   "execution_count": 6,
   "metadata": {},
   "outputs": [
    {
     "data": {
      "text/plain": [
       "{'inventario': [{'nombre': 'carricoche', 'precio': 18.0, 'cantidad': 7}],\n",
       " 'ventas_totales': 0.0}"
      ]
     },
     "execution_count": 6,
     "metadata": {},
     "output_type": "execute_result"
    }
   ],
   "source": [
    "jugueteria.__dict__"
   ]
  }
 ],
 "metadata": {
  "kernelspec": {
   "display_name": "Python 3",
   "language": "python",
   "name": "python3"
  },
  "language_info": {
   "codemirror_mode": {
    "name": "ipython",
    "version": 3
   },
   "file_extension": ".py",
   "mimetype": "text/x-python",
   "name": "python",
   "nbconvert_exporter": "python",
   "pygments_lexer": "ipython3",
   "version": "3.9.6"
  }
 },
 "nbformat": 4,
 "nbformat_minor": 2
}
