{
 "cells": [
  {
   "cell_type": "markdown",
   "metadata": {},
   "source": [
    "# EJERCICIO FINAL COMENTADO Y CON PRUEBAS"
   ]
  },
  {
   "cell_type": "markdown",
   "metadata": {},
   "source": [
    "## Creamos la clase TiendaOnline"
   ]
  },
  {
   "cell_type": "code",
   "execution_count": 1,
   "metadata": {},
   "outputs": [
    {
     "data": {
      "text/plain": [
       "{'inventario': [], 'ventas_totales': 0.0}"
      ]
     },
     "execution_count": 1,
     "metadata": {},
     "output_type": "execute_result"
    }
   ],
   "source": [
    "\n",
    "class TiendaOnline:#creo la clase TiendaOnline\n",
    "\n",
    "    def __init__(self):#defino el constructor, queda vacío porque los dos atributos serán parámetros por defecto\n",
    "        self.inventario = []\n",
    "        self.ventas_totales = 0.00\n",
    "\n",
    "\n",
    "jugueteria = TiendaOnline()#instancio un objeto, en este caso la juguetería\n",
    "\n",
    "jugueteria.__dict__#compruebo que todo funciona con el método .__dict__, \n",
    "                   #que revela la información guardada en el constructor\n"
   ]
  },
  {
   "cell_type": "markdown",
   "metadata": {},
   "source": [
    "## Creamos el primer método: agregar_producto"
   ]
  },
  {
   "cell_type": "code",
   "execution_count": 7,
   "metadata": {},
   "outputs": [],
   "source": [
    "\n",
    "class TiendaOnline:\n",
    "\n",
    "    def __init__(self):\n",
    "        self.inventario = []\n",
    "        self.ventas_totales = 0.00\n",
    "\n",
    "    def agregar_producto(self, nombre, precio, cantidad): #establezco el metodo con los parámetros indicados\n",
    "        \n",
    "        for diccionario in self.inventario: #itero por todos los diccionarios del inventario\n",
    "            \n",
    "            if diccionario[\"nombre\"] == nombre: # compruebo si alguno tiene el value nombre que le he dado en el parametro\n",
    "                \n",
    "                diccionario[\"cantidad\"] = cantidad #si ya está actualizo solo la cantidad(en caso de que actualizar = sumar, (+=))\n",
    "                return f\"El artículo {nombre} ya se encuentra en el inventario, vamos a actualizar el stock a {cantidad} unidades.\"\n",
    "            \n",
    "        else: #fuera del bucle for, si no se ha dado el condicional anterior, añado el diccionario nuevo a la lista con .append y todos los parámetros\n",
    "                self.inventario.append({\"nombre\" : nombre, \"precio\" : precio, \"cantidad\" : cantidad})\n",
    "                return f\"Añadiendo {nombre} al diccionario\""
   ]
  },
  {
   "cell_type": "code",
   "execution_count": 8,
   "metadata": {},
   "outputs": [],
   "source": [
    "jugueteria = TiendaOnline()"
   ]
  },
  {
   "cell_type": "code",
   "execution_count": 9,
   "metadata": {},
   "outputs": [
    {
     "data": {
      "text/plain": [
       "'Añadiendo carricoche al diccionario'"
      ]
     },
     "execution_count": 9,
     "metadata": {},
     "output_type": "execute_result"
    }
   ],
   "source": [
    "jugueteria.agregar_producto(\"carricoche\", 18.00, 5)"
   ]
  },
  {
   "cell_type": "code",
   "execution_count": 10,
   "metadata": {},
   "outputs": [
    {
     "data": {
      "text/plain": [
       "{'inventario': [{'nombre': 'carricoche', 'precio': 18.0, 'cantidad': 5}],\n",
       " 'ventas_totales': 0.0}"
      ]
     },
     "execution_count": 10,
     "metadata": {},
     "output_type": "execute_result"
    }
   ],
   "source": [
    "jugueteria.__dict__"
   ]
  },
  {
   "cell_type": "code",
   "execution_count": 11,
   "metadata": {},
   "outputs": [
    {
     "data": {
      "text/plain": [
       "'El artículo carricoche ya se encuentra en el inventario, vamos a actualizar el stock a 7 unidades.'"
      ]
     },
     "execution_count": 11,
     "metadata": {},
     "output_type": "execute_result"
    }
   ],
   "source": [
    "jugueteria.agregar_producto(\"carricoche\", 18.00, 7)"
   ]
  },
  {
   "cell_type": "code",
   "execution_count": 12,
   "metadata": {},
   "outputs": [
    {
     "data": {
      "text/plain": [
       "{'inventario': [{'nombre': 'carricoche', 'precio': 18.0, 'cantidad': 7}],\n",
       " 'ventas_totales': 0.0}"
      ]
     },
     "execution_count": 12,
     "metadata": {},
     "output_type": "execute_result"
    }
   ],
   "source": [
    "jugueteria.__dict__"
   ]
  },
  {
   "cell_type": "markdown",
   "metadata": {},
   "source": [
    "## Creamos el segundo: ver_inventario"
   ]
  },
  {
   "cell_type": "code",
   "execution_count": 29,
   "metadata": {},
   "outputs": [],
   "source": [
    "\n",
    "class TiendaOnline:\n",
    "\n",
    "    def __init__(self):\n",
    "        self.inventario = []\n",
    "        self.ventas_totales = 0.00\n",
    "\n",
    "    def agregar_producto(self, nombre, precio, cantidad):\n",
    "        \n",
    "        for diccionario in self.inventario:\n",
    "            \n",
    "            if diccionario[\"nombre\"] == nombre:\n",
    "                diccionario[\"cantidad\"] = cantidad \n",
    "                return f\"El artículo {nombre} ya se encuentra en el inventario, vamos a actualizar el stock a {cantidad} unidades.\"\n",
    "            \n",
    "        else:\n",
    "                self.inventario.append({\"nombre\" : nombre, \"precio\" : precio, \"cantidad\" : cantidad})\n",
    "                return f\"Añadiendo {nombre} al diccionario\"\n",
    "        \n",
    "    def ver_inventario(self): #establezco el método, sin parámetros\n",
    "        \n",
    "        for diccionario in self.inventario: #itero par cada uno de los diccionarios dentro de la lista inventario\n",
    "            print(f\"La informacion del producto es: {diccionario}\") #cada vez que paso por ellos imprimo la info"
   ]
  },
  {
   "cell_type": "code",
   "execution_count": 30,
   "metadata": {},
   "outputs": [
    {
     "data": {
      "text/plain": [
       "{'inventario': [], 'ventas_totales': 0.0}"
      ]
     },
     "execution_count": 30,
     "metadata": {},
     "output_type": "execute_result"
    }
   ],
   "source": [
    "jugueteria = TiendaOnline()\n",
    "jugueteria.__dict__"
   ]
  },
  {
   "cell_type": "code",
   "execution_count": 31,
   "metadata": {},
   "outputs": [
    {
     "data": {
      "text/plain": [
       "'Añadiendo puzzle al diccionario'"
      ]
     },
     "execution_count": 31,
     "metadata": {},
     "output_type": "execute_result"
    }
   ],
   "source": [
    "jugueteria.agregar_producto(\"coche\", 2.00, 12)\n",
    "jugueteria.agregar_producto(\"balón\", 5.00, 10)\n",
    "jugueteria.agregar_producto(\"puzzle\", 15.00, 8)"
   ]
  },
  {
   "cell_type": "code",
   "execution_count": 32,
   "metadata": {},
   "outputs": [
    {
     "name": "stdout",
     "output_type": "stream",
     "text": [
      "La informacion del producto es: {'nombre': 'coche', 'precio': 2.0, 'cantidad': 12}\n",
      "La informacion del producto es: {'nombre': 'balón', 'precio': 5.0, 'cantidad': 10}\n",
      "La informacion del producto es: {'nombre': 'puzzle', 'precio': 15.0, 'cantidad': 8}\n"
     ]
    }
   ],
   "source": [
    "jugueteria.ver_inventario()"
   ]
  },
  {
   "cell_type": "code",
   "execution_count": 33,
   "metadata": {},
   "outputs": [
    {
     "data": {
      "text/plain": [
       "'El artículo puzzle ya se encuentra en el inventario, vamos a actualizar el stock a 20 unidades.'"
      ]
     },
     "execution_count": 33,
     "metadata": {},
     "output_type": "execute_result"
    }
   ],
   "source": [
    "jugueteria.agregar_producto(\"puzzle\", 15.00, 20)"
   ]
  },
  {
   "cell_type": "code",
   "execution_count": 34,
   "metadata": {},
   "outputs": [
    {
     "name": "stdout",
     "output_type": "stream",
     "text": [
      "La informacion del producto es: {'nombre': 'coche', 'precio': 2.0, 'cantidad': 12}\n",
      "La informacion del producto es: {'nombre': 'balón', 'precio': 5.0, 'cantidad': 10}\n",
      "La informacion del producto es: {'nombre': 'puzzle', 'precio': 15.0, 'cantidad': 20}\n"
     ]
    }
   ],
   "source": [
    "jugueteria.ver_inventario()"
   ]
  },
  {
   "cell_type": "markdown",
   "metadata": {},
   "source": [
    "## Agregamos el método buscar_productos"
   ]
  },
  {
   "cell_type": "code",
   "execution_count": 80,
   "metadata": {},
   "outputs": [],
   "source": [
    "\n",
    "class TiendaOnline:\n",
    "\n",
    "    def __init__(self):\n",
    "        self.inventario = []\n",
    "        self.ventas_totales = 0.00\n",
    "\n",
    "    def agregar_producto(self, nombre, precio, cantidad):\n",
    "        \n",
    "        for diccionario in self.inventario:\n",
    "            \n",
    "            if diccionario[\"nombre\"] == nombre:\n",
    "                \n",
    "                diccionario[\"cantidad\"] = cantidad \n",
    "                return f\"El artículo {nombre} ya se encuentra en el inventario, vamos a actualizar el stock a {cantidad} unidades.\"\n",
    "            \n",
    "        else:\n",
    "                self.inventario.append({\"nombre\" : nombre, \"precio\" : precio, \"cantidad\" : cantidad})\n",
    "                return f\"Añadiendo {nombre} al diccionario\"\n",
    "        \n",
    "    def ver_inventario(self):\n",
    "        \n",
    "        for diccionario in self.inventario:\n",
    "            print(f\"La informacion del producto es: {diccionario}\")\n",
    "\n",
    "    def buscar_productos(self, nombre): #establezco el método con el prámetro nombre\n",
    "         \n",
    "        for diccionarios in self.inventario: #itero por la lista de diccionarios\n",
    "            \n",
    "            if diccionarios[\"nombre\"] == nombre: #si en el diccionario aparece el valor nombre\n",
    "                print(f\"Este producto está en el inventario: {diccionarios}\") #imprimo la info de ese producto\n",
    "        \n",
    "       "
   ]
  },
  {
   "cell_type": "code",
   "execution_count": 81,
   "metadata": {},
   "outputs": [
    {
     "data": {
      "text/plain": [
       "{'inventario': [], 'ventas_totales': 0.0}"
      ]
     },
     "execution_count": 81,
     "metadata": {},
     "output_type": "execute_result"
    }
   ],
   "source": [
    "fruteria = TiendaOnline()\n",
    "fruteria.__dict__"
   ]
  },
  {
   "cell_type": "code",
   "execution_count": 82,
   "metadata": {},
   "outputs": [
    {
     "data": {
      "text/plain": [
       "'Añadiendo manzanas al diccionario'"
      ]
     },
     "execution_count": 82,
     "metadata": {},
     "output_type": "execute_result"
    }
   ],
   "source": [
    "fruteria.agregar_producto(\"kiwis\", 4.75, 23)\n",
    "fruteria.agregar_producto(\"platanos\", 2.60, 21)\n",
    "fruteria.agregar_producto(\"peras\", 1.95, 34)\n",
    "fruteria.agregar_producto(\"manzanas\", 3.25, 20)"
   ]
  },
  {
   "cell_type": "code",
   "execution_count": 83,
   "metadata": {},
   "outputs": [
    {
     "name": "stdout",
     "output_type": "stream",
     "text": [
      "Este producto está en el inventario: {'nombre': 'manzanas', 'precio': 3.25, 'cantidad': 20}\n"
     ]
    }
   ],
   "source": [
    "fruteria.buscar_productos(\"manzanas\")"
   ]
  },
  {
   "cell_type": "code",
   "execution_count": 84,
   "metadata": {},
   "outputs": [],
   "source": [
    "fruteria.buscar_productos(\"uvas\")"
   ]
  },
  {
   "cell_type": "markdown",
   "metadata": {},
   "source": [
    "## Añado el método actualizar_stocks"
   ]
  },
  {
   "cell_type": "code",
   "execution_count": 85,
   "metadata": {},
   "outputs": [],
   "source": [
    "\n",
    "class TiendaOnline:\n",
    "\n",
    "    def __init__(self):\n",
    "        self.inventario = []\n",
    "        self.ventas_totales = 0.00\n",
    "\n",
    "    def agregar_producto(self, nombre, precio, cantidad):\n",
    "        \n",
    "        for diccionario in self.inventario:\n",
    "            \n",
    "            if diccionario[\"nombre\"] == nombre:\n",
    "                diccionario[\"cantidad\"] = cantidad \n",
    "                return f\"El artículo {nombre} ya se encuentra en el inventario, vamos a actualizar el stock a {cantidad} unidades.\"\n",
    "            \n",
    "        else:\n",
    "                self.inventario.append({\"nombre\" : nombre, \"precio\" : precio, \"cantidad\" : cantidad})\n",
    "                return f\"Añadiendo {nombre} al diccionario\"\n",
    "        \n",
    "    def ver_inventario(self):\n",
    "        \n",
    "        for diccionario in self.inventario:\n",
    "            print(f\"La informacion del producto es: {diccionario}\")\n",
    "\n",
    "    def buscar_productos(self, nombre):\n",
    "         \n",
    "        for diccionarios in self.inventario:\n",
    "            \n",
    "            if diccionarios[\"nombre\"] == nombre:\n",
    "                print(f\"Este producto está en el inventario: {diccionarios}\")\n",
    "\n",
    "    def actualizar_stock(self, nombre, cantidad): #establezco el método para actualizar stocks\n",
    "\n",
    "        for diccionarios in self.inventario: #itero por los diccionarios de la lista self.inventario\n",
    "            \n",
    "            if diccionarios[\"nombre\"] == nombre: #establezco la condición si nombre igual al value de nombre de alguno de los diccionarios\n",
    "                diccionarios[\"cantidad\"] = cantidad #cuando así sea, actualizo la cantidad(como antes, si es sumar (+=))\n",
    "                return f\"El artículo {nombre} ya se encuentra en el inventario, vamos a actualizar el stock a {cantidad} unidades.\"\n",
    "            \n",
    "        else:\n",
    "                return f\"El artículo {nombre} no está en el inventario\" #fuera del bucle, imprimo que no esta en el inventario\n",
    "            \n"
   ]
  },
  {
   "cell_type": "code",
   "execution_count": 86,
   "metadata": {},
   "outputs": [
    {
     "data": {
      "text/plain": [
       "{'inventario': [], 'ventas_totales': 0.0}"
      ]
     },
     "execution_count": 86,
     "metadata": {},
     "output_type": "execute_result"
    }
   ],
   "source": [
    "fruteria = TiendaOnline()\n",
    "fruteria.__dict__"
   ]
  },
  {
   "cell_type": "code",
   "execution_count": 87,
   "metadata": {},
   "outputs": [
    {
     "data": {
      "text/plain": [
       "'Añadiendo manzanas al diccionario'"
      ]
     },
     "execution_count": 87,
     "metadata": {},
     "output_type": "execute_result"
    }
   ],
   "source": [
    "fruteria.agregar_producto(\"manzanas\", 3.25, 20)"
   ]
  },
  {
   "cell_type": "code",
   "execution_count": 88,
   "metadata": {},
   "outputs": [
    {
     "data": {
      "text/plain": [
       "'Añadiendo kiwis al diccionario'"
      ]
     },
     "execution_count": 88,
     "metadata": {},
     "output_type": "execute_result"
    }
   ],
   "source": [
    "fruteria.agregar_producto(\"kiwis\", 4.75, 23)"
   ]
  },
  {
   "cell_type": "code",
   "execution_count": 89,
   "metadata": {},
   "outputs": [
    {
     "data": {
      "text/plain": [
       "'Añadiendo platanos al diccionario'"
      ]
     },
     "execution_count": 89,
     "metadata": {},
     "output_type": "execute_result"
    }
   ],
   "source": [
    "fruteria.agregar_producto(\"platanos\", 2.60, 21)"
   ]
  },
  {
   "cell_type": "code",
   "execution_count": 90,
   "metadata": {},
   "outputs": [
    {
     "data": {
      "text/plain": [
       "'Añadiendo peras al diccionario'"
      ]
     },
     "execution_count": 90,
     "metadata": {},
     "output_type": "execute_result"
    }
   ],
   "source": [
    "fruteria.agregar_producto(\"peras\", 1.95, 34)"
   ]
  },
  {
   "cell_type": "code",
   "execution_count": 91,
   "metadata": {},
   "outputs": [
    {
     "data": {
      "text/plain": [
       "'El artículo peras ya se encuentra en el inventario, vamos a actualizar el stock a 5 unidades.'"
      ]
     },
     "execution_count": 91,
     "metadata": {},
     "output_type": "execute_result"
    }
   ],
   "source": [
    "fruteria.actualizar_stock(\"peras\", 5)"
   ]
  },
  {
   "cell_type": "code",
   "execution_count": 92,
   "metadata": {},
   "outputs": [
    {
     "data": {
      "text/plain": [
       "'El artículo uvas no está en el inventario'"
      ]
     },
     "execution_count": 92,
     "metadata": {},
     "output_type": "execute_result"
    }
   ],
   "source": [
    "fruteria.actualizar_stock(\"uvas\", 33)"
   ]
  },
  {
   "cell_type": "markdown",
   "metadata": {},
   "source": [
    "## Método eliminar_producto"
   ]
  },
  {
   "cell_type": "code",
   "execution_count": 93,
   "metadata": {},
   "outputs": [],
   "source": [
    "\n",
    "class TiendaOnline:\n",
    "\n",
    "    def __init__(self):\n",
    "        self.inventario = []\n",
    "        self.ventas_totales = 0.00\n",
    "\n",
    "    def agregar_producto(self, nombre, precio, cantidad):\n",
    "        \n",
    "        for diccionario in self.inventario:\n",
    "            \n",
    "            if diccionario[\"nombre\"] == nombre:\n",
    "                diccionario[\"cantidad\"] = cantidad \n",
    "                return f\"El artículo {nombre} ya se encuentra en el inventario, vamos a actualizar el stock a {cantidad} unidades.\"\n",
    "            \n",
    "        else:\n",
    "                self.inventario.append({\"nombre\" : nombre, \"precio\" : precio, \"cantidad\" : cantidad})\n",
    "                return f\"Añadiendo {nombre} al diccionario\"\n",
    "        \n",
    "    def ver_inventario(self):\n",
    "        \n",
    "        for diccionario in self.inventario:\n",
    "            print(f\"La informacion del producto es: {diccionario}\")\n",
    "\n",
    "    def buscar_productos(self, nombre):\n",
    "         \n",
    "        for diccionarios in self.inventario:\n",
    "            \n",
    "            if diccionarios[\"nombre\"] == nombre:\n",
    "                print(f\"Este producto está en el inventario: {diccionarios}\")\n",
    "\n",
    "    def actualizar_stock(self, nombre, cantidad): \n",
    "\n",
    "        for diccionarios in self.inventario: \n",
    "            \n",
    "            if diccionarios[\"nombre\"] == nombre: \n",
    "                diccionarios[\"cantidad\"] = cantidad \n",
    "                return f\"El artículo {nombre} ya se encuentra en el inventario, vamos a actualizar el stock a {cantidad} unidades.\"\n",
    "            \n",
    "        else:\n",
    "                return f\"El artículo {nombre} no está en el inventario\"\n",
    "        \n",
    "\n",
    "    def eliminar_producto(self, nombre): #creo el método para eliminar artículos\n",
    "        \n",
    "        for diccionarios in self.inventario: #dentro de la lista, itero por los diccionarios\n",
    "            \n",
    "            if diccionarios[\"nombre\"] == nombre: #si el nombre que le doy coincide con uno ya dentro del diccionario\n",
    "                self.inventario.remove(diccionarios) #elimino ese diccionario por completo\n",
    "                return f\"El artículo {nombre} ha sido eliminado del inventario\" #lanzo el mensaje con el artículo que se ha eliminado\n",
    "            \n",
    "        else:\n",
    "            return f\"El artículo {nombre} no está en el inventario\"  #si el artículo no está en la lista, me lanza este mensaje\n",
    "            \n"
   ]
  },
  {
   "cell_type": "code",
   "execution_count": 94,
   "metadata": {},
   "outputs": [
    {
     "data": {
      "text/plain": [
       "{'inventario': [], 'ventas_totales': 0.0}"
      ]
     },
     "execution_count": 94,
     "metadata": {},
     "output_type": "execute_result"
    }
   ],
   "source": [
    "fruteria = TiendaOnline()\n",
    "fruteria.__dict__"
   ]
  },
  {
   "cell_type": "code",
   "execution_count": 95,
   "metadata": {},
   "outputs": [
    {
     "data": {
      "text/plain": [
       "'Añadiendo platanos al diccionario'"
      ]
     },
     "execution_count": 95,
     "metadata": {},
     "output_type": "execute_result"
    }
   ],
   "source": [
    "fruteria.agregar_producto(\"manzanas\", 3.25, 20)\n",
    "fruteria.agregar_producto(\"peras\", 1.95, 34)\n",
    "fruteria.agregar_producto(\"kiwis\", 4.75, 23)\n",
    "fruteria.agregar_producto(\"platanos\", 2.60, 21)\n"
   ]
  },
  {
   "cell_type": "code",
   "execution_count": 96,
   "metadata": {},
   "outputs": [
    {
     "data": {
      "text/plain": [
       "'El artículo platanos ha sido eliminado del inventario'"
      ]
     },
     "execution_count": 96,
     "metadata": {},
     "output_type": "execute_result"
    }
   ],
   "source": [
    "fruteria.eliminar_producto(\"platanos\")"
   ]
  },
  {
   "cell_type": "code",
   "execution_count": 97,
   "metadata": {},
   "outputs": [
    {
     "data": {
      "text/plain": [
       "'El artículo cerezas no está en el inventario'"
      ]
     },
     "execution_count": 97,
     "metadata": {},
     "output_type": "execute_result"
    }
   ],
   "source": [
    "fruteria.eliminar_producto(\"cerezas\")"
   ]
  },
  {
   "cell_type": "markdown",
   "metadata": {},
   "source": [
    "## Método calcular_valor_inventarios"
   ]
  },
  {
   "cell_type": "code",
   "execution_count": 98,
   "metadata": {},
   "outputs": [],
   "source": [
    "\n",
    "class TiendaOnline:\n",
    "\n",
    "    def __init__(self):\n",
    "        self.inventario = []\n",
    "        self.ventas_totales = 0.00\n",
    "        \n",
    "\n",
    "    def agregar_producto(self, nombre, precio, cantidad):\n",
    "        \n",
    "        for diccionario in self.inventario:\n",
    "            \n",
    "            if diccionario[\"nombre\"] == nombre:\n",
    "                diccionario[\"cantidad\"] = cantidad \n",
    "                return f\"El artículo {nombre} ya se encuentra en el inventario, vamos a actualizar el stock a {cantidad} unidades.\"\n",
    "            \n",
    "        else:\n",
    "                self.inventario.append({\"nombre\" : nombre, \"precio\" : precio, \"cantidad\" : cantidad})\n",
    "                return f\"Añadiendo {nombre} al diccionario\"\n",
    "        \n",
    "        \n",
    "    def ver_inventario(self):\n",
    "        \n",
    "        for diccionario in self.inventario:\n",
    "            print(f\"La informacion del producto es: {diccionario}\")\n",
    "\n",
    "\n",
    "    def buscar_productos(self, nombre):\n",
    "         \n",
    "        for diccionarios in self.inventario:\n",
    "            \n",
    "            if diccionarios[\"nombre\"] == nombre:\n",
    "                print(f\"Este producto está en el inventario: {diccionarios}\")\n",
    "\n",
    "\n",
    "    def actualizar_stock(self, nombre, cantidad): \n",
    "\n",
    "        for diccionarios in self.inventario: \n",
    "            \n",
    "            if diccionarios[\"nombre\"] == nombre: \n",
    "                diccionarios[\"cantidad\"] = cantidad \n",
    "                return f\"El artículo {nombre} ya se encuentra en el inventario, vamos a actualizar el stock a {cantidad} unidades.\"\n",
    "            \n",
    "        else:\n",
    "                return f\"El artículo {nombre} no está en el inventario\"\n",
    "        \n",
    "        \n",
    "    def eliminar_producto(self, nombre):\n",
    "        \n",
    "        for diccionarios in self.inventario:\n",
    "            \n",
    "            if diccionarios[\"nombre\"] == nombre: \n",
    "                self.inventario.remove(diccionarios)\n",
    "                return f\"El artículo {nombre} ha sido eliminado del inventario\"\n",
    "            \n",
    "        else:\n",
    "            return f\"El artículo {nombre} no está en el inventario\"   \n",
    "        \n",
    "        \n",
    "    def calcular_valor_inventario(self): #establezco el método para calcular\n",
    "        valor_ttl = 0 #creo una variable vacía para ir acumulando el el valor total de cada producto, \n",
    "                    # fuera para que no dependa de cada itearación por la lista.\n",
    "        \n",
    "        for diccionarios in self.inventario: #itero por cada uno de los diccionarios dentro de la lista\n",
    "            \n",
    "            valor_articulo = diccionarios[\"precio\"] * diccionarios[\"cantidad\"] #en cada diccionario multiplico cantidad por precio\n",
    "            print(f\"el valor total por artículo es {valor_articulo}\")\n",
    "            valor_ttl += valor_articulo #voy acumulando en la variable que tengo fuera el resultado de cada multi.\n",
    "            \n",
    "        else:\n",
    "            return f\"El valor total del inventario es {round(valor_ttl, 2)}\" #imprimo fuera del bucle, una unica vez, \n",
    "                                                                            #el resultado final, con la suma de todas las iteraciones.\n",
    "\n",
    "            \n",
    "            \n"
   ]
  },
  {
   "cell_type": "code",
   "execution_count": 99,
   "metadata": {},
   "outputs": [
    {
     "data": {
      "text/plain": [
       "{'inventario': [], 'ventas_totales': 0.0}"
      ]
     },
     "execution_count": 99,
     "metadata": {},
     "output_type": "execute_result"
    }
   ],
   "source": [
    "fruteria = TiendaOnline()\n",
    "fruteria.__dict__"
   ]
  },
  {
   "cell_type": "code",
   "execution_count": 100,
   "metadata": {},
   "outputs": [
    {
     "data": {
      "text/plain": [
       "'Añadiendo platanos al diccionario'"
      ]
     },
     "execution_count": 100,
     "metadata": {},
     "output_type": "execute_result"
    }
   ],
   "source": [
    "fruteria.agregar_producto(\"manzanas\", 3.25, 20)\n",
    "fruteria.agregar_producto(\"peras\", 1.95, 34)\n",
    "fruteria.agregar_producto(\"kiwis\", 4.75, 23)\n",
    "fruteria.agregar_producto(\"platanos\", 2.60, 21)\n"
   ]
  },
  {
   "cell_type": "code",
   "execution_count": 101,
   "metadata": {},
   "outputs": [
    {
     "name": "stdout",
     "output_type": "stream",
     "text": [
      "el valor total por artículo es 65.0\n",
      "el valor total por artículo es 66.3\n",
      "el valor total por artículo es 109.25\n",
      "el valor total por artículo es 54.6\n"
     ]
    },
    {
     "data": {
      "text/plain": [
       "'El valor total del inventario es 295.15'"
      ]
     },
     "execution_count": 101,
     "metadata": {},
     "output_type": "execute_result"
    }
   ],
   "source": [
    "fruteria.calcular_valor_inventario()"
   ]
  },
  {
   "cell_type": "markdown",
   "metadata": {},
   "source": [
    "# BONUS"
   ]
  },
  {
   "cell_type": "markdown",
   "metadata": {},
   "source": [
    "# Añadir atributos y método agregar_cliente"
   ]
  },
  {
   "cell_type": "code",
   "execution_count": 107,
   "metadata": {},
   "outputs": [],
   "source": [
    "\n",
    "class TiendaOnline:\n",
    "\n",
    "    def __init__(self):\n",
    "        self.inventario = []\n",
    "        self.ventas_totales = 0.00\n",
    "        self.clientes = {}\n",
    "\n",
    "    def agregar_producto(self, nombre, precio, cantidad):\n",
    "        \n",
    "        for diccionario in self.inventario:\n",
    "            \n",
    "            if diccionario[\"nombre\"] == nombre:\n",
    "                diccionario[\"cantidad\"] = cantidad \n",
    "                return f\"El artículo {nombre} ya se encuentra en el inventario, vamos a actualizar el stock a {cantidad} unidades.\"\n",
    "            \n",
    "        else:\n",
    "                self.inventario.append({\"nombre\" : nombre, \"precio\" : precio, \"cantidad\" : cantidad})\n",
    "                return f\"Añadiendo {nombre} al diccionario\"\n",
    "        \n",
    "        \n",
    "    def ver_inventario(self):\n",
    "        \n",
    "        for diccionario in self.inventario:\n",
    "            print(f\"La informacion del producto es: {diccionario}\")\n",
    "\n",
    "\n",
    "    def buscar_productos(self, nombre):\n",
    "         \n",
    "        for diccionarios in self.inventario:\n",
    "            \n",
    "            if diccionarios[\"nombre\"] == nombre:\n",
    "                print(f\"Este producto está en el inventario: {diccionarios}\")\n",
    "\n",
    "\n",
    "    def actualizar_stock(self, nombre, cantidad): \n",
    "\n",
    "        for diccionarios in self.inventario: \n",
    "            \n",
    "            if diccionarios[\"nombre\"] == nombre: \n",
    "                diccionarios[\"cantidad\"] = cantidad \n",
    "                return f\"El artículo {nombre} ya se encuentra en el inventario, vamos a actualizar el stock a {cantidad} unidades.\"\n",
    "            \n",
    "        else:\n",
    "                return f\"El artículo {nombre} no está en el inventario\"\n",
    "        \n",
    "        \n",
    "    def eliminar_producto(self, nombre):\n",
    "        \n",
    "        for diccionarios in self.inventario:\n",
    "            \n",
    "            if diccionarios[\"nombre\"] == nombre: \n",
    "                self.inventario.remove(diccionarios)\n",
    "                return f\"El artículo {nombre} ha sido eliminado del inventario\"\n",
    "            \n",
    "        else:\n",
    "            return f\"El artículo {nombre} no está en el inventario\"   \n",
    "        \n",
    "        \n",
    "    def calcular_valor_inventario(self): \n",
    "        valor_ttl = 0 \n",
    "                    \n",
    "        for diccionarios in self.inventario: \n",
    "            \n",
    "            valor_articulo = diccionarios[\"precio\"] * diccionarios[\"cantidad\"] \n",
    "            print(f\"el valor total por artículo es {valor_articulo}\")\n",
    "            valor_ttl += valor_articulo \n",
    "            \n",
    "        else:\n",
    "            return f\"El valor total del inventario es {round(valor_ttl, 2)}\" \n",
    "        \n",
    "            \n",
    "    def agregar_cliente(self, nombre, email): #creo el método para agregar clientes\n",
    "    \n",
    "        if nombre in self.clientes: #compruebo que el cliente no exista \n",
    "            print (f\"El cliente {nombre} ya existe\")\n",
    "\n",
    "        else:\n",
    "            self.clientes[nombre] = {\"email\" : email, \"compras\" : []} #añado el cliente con asignación directa\n",
    "            print (f\"Se ha añadido {nombre} a la lista de clientes\") \n",
    "            \n"
   ]
  },
  {
   "cell_type": "code",
   "execution_count": 108,
   "metadata": {},
   "outputs": [
    {
     "data": {
      "text/plain": [
       "{'inventario': [], 'ventas_totales': 0.0, 'clientes': {}}"
      ]
     },
     "execution_count": 108,
     "metadata": {},
     "output_type": "execute_result"
    }
   ],
   "source": [
    "papeleria = TiendaOnline()\n",
    "papeleria.__dict__"
   ]
  },
  {
   "cell_type": "code",
   "execution_count": 109,
   "metadata": {},
   "outputs": [
    {
     "name": "stdout",
     "output_type": "stream",
     "text": [
      "Se ha añadido Paco a la lista de clientes\n"
     ]
    },
    {
     "data": {
      "text/plain": [
       "{'inventario': [],\n",
       " 'ventas_totales': 0.0,\n",
       " 'clientes': {'Paco': {'email': 'paco@gmail.com', 'compras': []}}}"
      ]
     },
     "execution_count": 109,
     "metadata": {},
     "output_type": "execute_result"
    }
   ],
   "source": [
    "papeleria.agregar_cliente(\"Paco\", \"paco@gmail.com\")\n",
    "papeleria.__dict__"
   ]
  },
  {
   "cell_type": "code",
   "execution_count": 110,
   "metadata": {},
   "outputs": [
    {
     "name": "stdout",
     "output_type": "stream",
     "text": [
      "Se ha añadido Maria a la lista de clientes\n",
      "Se ha añadido Carla a la lista de clientes\n"
     ]
    },
    {
     "data": {
      "text/plain": [
       "{'inventario': [],\n",
       " 'ventas_totales': 0.0,\n",
       " 'clientes': {'Paco': {'email': 'paco@gmail.com', 'compras': []},\n",
       "  'Maria': {'email': 'maria@mail.com', 'compras': []},\n",
       "  'Carla': {'email': 'carla@mail.es', 'compras': []}}}"
      ]
     },
     "execution_count": 110,
     "metadata": {},
     "output_type": "execute_result"
    }
   ],
   "source": [
    "papeleria.agregar_cliente(\"Maria\", \"maria@mail.com\")\n",
    "papeleria.agregar_cliente(\"Carla\", \"carla@mail.es\")\n",
    "papeleria.__dict__"
   ]
  },
  {
   "cell_type": "code",
   "execution_count": 111,
   "metadata": {},
   "outputs": [
    {
     "name": "stdout",
     "output_type": "stream",
     "text": [
      "El cliente Paco ya existe\n"
     ]
    }
   ],
   "source": [
    "papeleria.agregar_cliente(\"Paco\", \"paco@gmail.com\")"
   ]
  },
  {
   "cell_type": "markdown",
   "metadata": {},
   "source": [
    "# BONUS"
   ]
  },
  {
   "cell_type": "markdown",
   "metadata": {},
   "source": [
    "# Añadir atributo y métodos: agregar_cliente, ver_clientes"
   ]
  },
  {
   "cell_type": "code",
   "execution_count": 118,
   "metadata": {},
   "outputs": [],
   "source": [
    "class TiendaOnline:\n",
    "\n",
    "    def __init__(self):\n",
    "        self.inventario = []\n",
    "        self.ventas_totales = 0.00\n",
    "        self.clientes = {}\n",
    "\n",
    "    def agregar_cliente(self, nombre, email):\n",
    "    \n",
    "        if nombre in self.clientes:\n",
    "            print (f\"El cliente {nombre} ya existe\")\n",
    "\n",
    "        else:\n",
    "            self.clientes[nombre] = {\"email\" : email, \"compras\" : []}\n",
    "            print (f\"Se ha añadido {nombre} a la lista de clientes\")\n",
    "\n",
    "    \n",
    "    def ver_clientes(self):\n",
    "        \n",
    "        for nombre, values in self.clientes.items():\n",
    "    \n",
    "            print(f\"Datos del cliente: {nombre}  {values} \")"
   ]
  },
  {
   "cell_type": "code",
   "execution_count": 119,
   "metadata": {},
   "outputs": [
    {
     "data": {
      "text/plain": [
       "{'inventario': [], 'ventas_totales': 0.0, 'clientes': {}}"
      ]
     },
     "execution_count": 119,
     "metadata": {},
     "output_type": "execute_result"
    }
   ],
   "source": [
    "papeleria = TiendaOnline()\n",
    "papeleria.__dict__"
   ]
  },
  {
   "cell_type": "code",
   "execution_count": 120,
   "metadata": {},
   "outputs": [
    {
     "name": "stdout",
     "output_type": "stream",
     "text": [
      "Se ha añadido Paco a la lista de clientes\n"
     ]
    },
    {
     "data": {
      "text/plain": [
       "{'inventario': [],\n",
       " 'ventas_totales': 0.0,\n",
       " 'clientes': {'Paco': {'email': 'paco@gmail.com', 'compras': []}}}"
      ]
     },
     "execution_count": 120,
     "metadata": {},
     "output_type": "execute_result"
    }
   ],
   "source": [
    "papeleria.agregar_cliente(\"Paco\", \"paco@gmail.com\")\n",
    "papeleria.__dict__"
   ]
  },
  {
   "cell_type": "code",
   "execution_count": 121,
   "metadata": {},
   "outputs": [
    {
     "name": "stdout",
     "output_type": "stream",
     "text": [
      "Se ha añadido Maria a la lista de clientes\n",
      "Se ha añadido Carla a la lista de clientes\n"
     ]
    },
    {
     "data": {
      "text/plain": [
       "{'inventario': [],\n",
       " 'ventas_totales': 0.0,\n",
       " 'clientes': {'Paco': {'email': 'paco@gmail.com', 'compras': []},\n",
       "  'Maria': {'email': 'maria@mail.com', 'compras': []},\n",
       "  'Carla': {'email': 'carla@mail.es', 'compras': []}}}"
      ]
     },
     "execution_count": 121,
     "metadata": {},
     "output_type": "execute_result"
    }
   ],
   "source": [
    "papeleria.agregar_cliente(\"Maria\", \"maria@mail.com\")\n",
    "papeleria.agregar_cliente(\"Carla\", \"carla@mail.es\")\n",
    "papeleria.__dict__"
   ]
  },
  {
   "cell_type": "code",
   "execution_count": 122,
   "metadata": {},
   "outputs": [
    {
     "name": "stdout",
     "output_type": "stream",
     "text": [
      "Datos del cliente: Paco  {'email': 'paco@gmail.com', 'compras': []} \n",
      "Datos del cliente: Maria  {'email': 'maria@mail.com', 'compras': []} \n",
      "Datos del cliente: Carla  {'email': 'carla@mail.es', 'compras': []} \n"
     ]
    }
   ],
   "source": [
    "papeleria.ver_clientes()"
   ]
  }
 ],
 "metadata": {
  "kernelspec": {
   "display_name": "Python 3",
   "language": "python",
   "name": "python3"
  },
  "language_info": {
   "codemirror_mode": {
    "name": "ipython",
    "version": 3
   },
   "file_extension": ".py",
   "mimetype": "text/x-python",
   "name": "python",
   "nbconvert_exporter": "python",
   "pygments_lexer": "ipython3",
   "version": "3.9.6"
  }
 },
 "nbformat": 4,
 "nbformat_minor": 2
}
