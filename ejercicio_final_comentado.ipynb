{
 "cells": [
  {
   "cell_type": "code",
   "execution_count": null,
   "metadata": {},
   "outputs": [],
   "source": []
  },
  {
   "cell_type": "code",
   "execution_count": 1,
   "metadata": {},
   "outputs": [
    {
     "data": {
      "text/plain": [
       "{'inventario': [], 'ventas_totales': 0.0}"
      ]
     },
     "execution_count": 1,
     "metadata": {},
     "output_type": "execute_result"
    }
   ],
   "source": [
    "\n",
    "class TiendaOnline:#creo la clase TiendaOnline\n",
    "\n",
    "    def __init__(self):#defino el constructor, queda vacío porque los dos atributos serán parámetros por defecto\n",
    "        self.inventario = []\n",
    "        self.ventas_totales = 0.00\n",
    "\n",
    "\n",
    "jugueteria = TiendaOnline()#instancio un objeto, en este caso la juguetería\n",
    "\n",
    "jugueteria.__dict__#compruebo que todo funciona con el método .__dict__, \n",
    "                   #que revela la información guardada en el constructor\n"
   ]
  },
  {
   "cell_type": "code",
   "execution_count": 7,
   "metadata": {},
   "outputs": [],
   "source": [
    "\n",
    "class TiendaOnline:\n",
    "\n",
    "    def __init__(self):\n",
    "        self.inventario = []\n",
    "        self.ventas_totales = 0.00\n",
    "\n",
    "    def agregar_producto(self, nombre, precio, cantidad): #establezco el metodo con los parámetros indicados\n",
    "        \n",
    "        for diccionario in self.inventario: #itero por todos los diccionarios del inventario\n",
    "            if diccionario[\"nombre\"] == nombre: # compruebo si alguno tiene el value nombre que le he dado en el parametro\n",
    "                diccionario[\"cantidad\"] = cantidad #si ya está actualizo solo la cantidad(en caso de que actualizar = sumar, (+=))\n",
    "                return f\"El artículo {nombre} ya se encuentra en el inventario, vamos a actualizar el stock a {cantidad} unidades.\"\n",
    "            \n",
    "        else: #fuera del bucle for, si no se ha dado el condicional anterior, añado el diccionario nuevo a la lista con .append y todos los parámetros\n",
    "                self.inventario.append({\"nombre\" : nombre, \"precio\" : precio, \"cantidad\" : cantidad})\n",
    "                return f\"Añadiendo {nombre} al diccionario\""
   ]
  },
  {
   "cell_type": "code",
   "execution_count": 8,
   "metadata": {},
   "outputs": [],
   "source": [
    "jugueteria = TiendaOnline()"
   ]
  },
  {
   "cell_type": "code",
   "execution_count": 9,
   "metadata": {},
   "outputs": [
    {
     "data": {
      "text/plain": [
       "'Añadiendo carricoche al diccionario'"
      ]
     },
     "execution_count": 9,
     "metadata": {},
     "output_type": "execute_result"
    }
   ],
   "source": [
    "jugueteria.agregar_producto(\"carricoche\", 18.00, 5)"
   ]
  },
  {
   "cell_type": "code",
   "execution_count": 10,
   "metadata": {},
   "outputs": [
    {
     "data": {
      "text/plain": [
       "{'inventario': [{'nombre': 'carricoche', 'precio': 18.0, 'cantidad': 5}],\n",
       " 'ventas_totales': 0.0}"
      ]
     },
     "execution_count": 10,
     "metadata": {},
     "output_type": "execute_result"
    }
   ],
   "source": [
    "jugueteria.__dict__"
   ]
  },
  {
   "cell_type": "code",
   "execution_count": 11,
   "metadata": {},
   "outputs": [
    {
     "data": {
      "text/plain": [
       "'El artículo carricoche ya se encuentra en el inventario, vamos a actualizar el stock a 7 unidades.'"
      ]
     },
     "execution_count": 11,
     "metadata": {},
     "output_type": "execute_result"
    }
   ],
   "source": [
    "jugueteria.agregar_producto(\"carricoche\", 18.00, 7)"
   ]
  },
  {
   "cell_type": "code",
   "execution_count": 12,
   "metadata": {},
   "outputs": [
    {
     "data": {
      "text/plain": [
       "{'inventario': [{'nombre': 'carricoche', 'precio': 18.0, 'cantidad': 7}],\n",
       " 'ventas_totales': 0.0}"
      ]
     },
     "execution_count": 12,
     "metadata": {},
     "output_type": "execute_result"
    }
   ],
   "source": [
    "jugueteria.__dict__"
   ]
  },
  {
   "cell_type": "code",
   "execution_count": null,
   "metadata": {},
   "outputs": [],
   "source": []
  },
  {
   "cell_type": "code",
   "execution_count": 13,
   "metadata": {},
   "outputs": [],
   "source": [
    "###funciona\n",
    "class TiendaOnline:\n",
    "\n",
    "    def __init__(self):\n",
    "        self.inventario = []\n",
    "        self.ventas_totales = 0.00\n",
    "\n",
    "    def agregar_producto(self, nombre, precio, cantidad):\n",
    "        \n",
    "        for diccionario in self.inventario:\n",
    "            if diccionario[\"nombre\"] == nombre:\n",
    "                \n",
    "                diccionario[\"cantidad\"] = cantidad \n",
    "                return f\"El artículo {nombre} ya se encuentra en el inventario, vamos a actualizar el stock a {cantidad} unidades.\"\n",
    "            \n",
    "        else:\n",
    "                self.inventario.append({\"nombre\" : nombre, \"precio\" : precio, \"cantidad\" : cantidad})\n",
    "                return f\"Añadiendo {nombre} al diccionario\"\n",
    "        \n",
    "    def ver_inventario(self): #establezco el método, sin parámetros\n",
    "        \n",
    "        for diccionario in self.inventario: #itero par cada uno de los diccionarios dentro de la lista inventario\n",
    "             print(f\"La informacion del producto es: {diccionario}\") #cada vez que paso por ellos imprimo la info"
   ]
  },
  {
   "cell_type": "code",
   "execution_count": 14,
   "metadata": {},
   "outputs": [
    {
     "data": {
      "text/plain": [
       "{'inventario': [], 'ventas_totales': 0.0}"
      ]
     },
     "execution_count": 14,
     "metadata": {},
     "output_type": "execute_result"
    }
   ],
   "source": [
    "jugueteria = TiendaOnline()\n",
    "jugueteria.__dict__"
   ]
  },
  {
   "cell_type": "code",
   "execution_count": 15,
   "metadata": {},
   "outputs": [
    {
     "data": {
      "text/plain": [
       "'Añadiendo balón al diccionario'"
      ]
     },
     "execution_count": 15,
     "metadata": {},
     "output_type": "execute_result"
    }
   ],
   "source": [
    "jugueteria.agregar_producto(\"balón\", 5.00, 10)"
   ]
  },
  {
   "cell_type": "code",
   "execution_count": 16,
   "metadata": {},
   "outputs": [
    {
     "data": {
      "text/plain": [
       "'Añadiendo coche al diccionario'"
      ]
     },
     "execution_count": 16,
     "metadata": {},
     "output_type": "execute_result"
    }
   ],
   "source": [
    "jugueteria.agregar_producto(\"coche\", 2.00, 12)"
   ]
  },
  {
   "cell_type": "code",
   "execution_count": 17,
   "metadata": {},
   "outputs": [
    {
     "data": {
      "text/plain": [
       "'Añadiendo puzzle al diccionario'"
      ]
     },
     "execution_count": 17,
     "metadata": {},
     "output_type": "execute_result"
    }
   ],
   "source": [
    "jugueteria.agregar_producto(\"puzzle\", 15.00, 8)"
   ]
  },
  {
   "cell_type": "code",
   "execution_count": 18,
   "metadata": {},
   "outputs": [
    {
     "name": "stdout",
     "output_type": "stream",
     "text": [
      "La informacion del producto es: {'nombre': 'balón', 'precio': 5.0, 'cantidad': 10}\n",
      "La informacion del producto es: {'nombre': 'coche', 'precio': 2.0, 'cantidad': 12}\n",
      "La informacion del producto es: {'nombre': 'puzzle', 'precio': 15.0, 'cantidad': 8}\n"
     ]
    }
   ],
   "source": [
    "jugueteria.ver_inventario()"
   ]
  },
  {
   "cell_type": "code",
   "execution_count": 19,
   "metadata": {},
   "outputs": [
    {
     "data": {
      "text/plain": [
       "'El artículo puzzle ya se encuentra en el inventario, vamos a actualizar el stock a 20 unidades.'"
      ]
     },
     "execution_count": 19,
     "metadata": {},
     "output_type": "execute_result"
    }
   ],
   "source": [
    "jugueteria.agregar_producto(\"puzzle\", 15.00, 20)"
   ]
  },
  {
   "cell_type": "code",
   "execution_count": 20,
   "metadata": {},
   "outputs": [
    {
     "name": "stdout",
     "output_type": "stream",
     "text": [
      "La informacion del producto es: {'nombre': 'balón', 'precio': 5.0, 'cantidad': 10}\n",
      "La informacion del producto es: {'nombre': 'coche', 'precio': 2.0, 'cantidad': 12}\n",
      "La informacion del producto es: {'nombre': 'puzzle', 'precio': 15.0, 'cantidad': 20}\n"
     ]
    }
   ],
   "source": [
    "jugueteria.ver_inventario()"
   ]
  },
  {
   "cell_type": "code",
   "execution_count": null,
   "metadata": {},
   "outputs": [],
   "source": []
  },
  {
   "cell_type": "code",
   "execution_count": null,
   "metadata": {},
   "outputs": [],
   "source": []
  }
 ],
 "metadata": {
  "kernelspec": {
   "display_name": "Python 3",
   "language": "python",
   "name": "python3"
  },
  "language_info": {
   "codemirror_mode": {
    "name": "ipython",
    "version": 3
   },
   "file_extension": ".py",
   "mimetype": "text/x-python",
   "name": "python",
   "nbconvert_exporter": "python",
   "pygments_lexer": "ipython3",
   "version": "3.9.6"
  }
 },
 "nbformat": 4,
 "nbformat_minor": 2
}
